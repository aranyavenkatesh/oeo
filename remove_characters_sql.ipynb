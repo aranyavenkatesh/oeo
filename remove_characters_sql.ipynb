{
 "cells": [
  {
   "cell_type": "code",
   "execution_count": 1,
   "metadata": {},
   "outputs": [],
   "source": [
    "import pandas as pd\n",
    "import sqlite3\n",
    "import numpy as np\n",
    "import os\n",
    "import shutil"
   ]
  },
  {
   "cell_type": "code",
   "execution_count": 2,
   "metadata": {},
   "outputs": [],
   "source": [
    "file_name = 'US_National.sql'\n",
    "o_file_name = 'US_National_mod.sql'"
   ]
  },
  {
   "cell_type": "code",
   "execution_count": 3,
   "metadata": {},
   "outputs": [],
   "source": [
    "fd = open(file_name, 'r')\n",
    "sqlFile = fd.read()\n",
    "fd.close()"
   ]
  },
  {
   "cell_type": "code",
   "execution_count": 4,
   "metadata": {},
   "outputs": [],
   "source": [
    "sqlCommands = sqlFile.split(';')"
   ]
  },
  {
   "cell_type": "code",
   "execution_count": 5,
   "metadata": {},
   "outputs": [],
   "source": [
    "#filter CREATE TABLE commands\n",
    "iterval = 0\n",
    "create_sqlCommands=[]\n",
    "list_tables_testfile = []\n",
    "for command in sqlCommands:\n",
    "\n",
    "    command = command.replace(\" \\n\", \"\")\n",
    "    command = command.replace(\"\\n'\", \"'\")\n",
    "    command = command.replace(\"NULL\\n\", \"NULL\")\n",
    "    command = command.replace('\\n\"', '\"')\n",
    "    command = command.replace('\\n\\n', '')\n",
    "    if '\\n\\n' in command:\n",
    "        print(command)\n",
    "\n",
    "    create_sqlCommands.append(command)\n",
    "    iterval+=1"
   ]
  },
  {
   "cell_type": "code",
   "execution_count": 6,
   "metadata": {},
   "outputs": [],
   "source": [
    "#write to new SQL file\n",
    "fd = open(o_file_name, 'w')\n",
    "sqlFile = fd.write(\";\".join(create_sqlCommands))\n",
    "fd.close()"
   ]
  }
 ],
 "metadata": {
  "kernelspec": {
   "display_name": "Python 3",
   "language": "python",
   "name": "python3"
  },
  "language_info": {
   "codemirror_mode": {
    "name": "ipython",
    "version": 3
   },
   "file_extension": ".py",
   "mimetype": "text/x-python",
   "name": "python",
   "nbconvert_exporter": "python",
   "pygments_lexer": "ipython3",
   "version": "3.7.6"
  }
 },
 "nbformat": 4,
 "nbformat_minor": 4
}
